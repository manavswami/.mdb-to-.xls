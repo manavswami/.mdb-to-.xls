{
 "cells": [
  {
   "cell_type": "code",
   "execution_count": null,
   "id": "surprised-bonus",
   "metadata": {},
   "outputs": [
    {
     "name": "stdout",
     "output_type": "stream",
     "text": [
      "Exporting Exp\n"
     ]
    }
   ],
   "source": [
    "# apt-get install mdbtools\n",
    "# this need to install  befor running this code\n",
    "\n",
    "\n",
    "\n",
    "import pandas as pd\n",
    "import numpy as np\n",
    "  \n",
    "import os, sys, subprocess\n",
    "\n",
    "\n",
    "\n",
    "DATABASE = \"202012-EXP.mdb\" # database name \n",
    "\n",
    "# Get table names using mdb-tables\n",
    "table_names = subprocess.Popen(['mdb-tables', '-1', DATABASE], stdout=subprocess.PIPE).communicate()[0]\n",
    "\n",
    "table_names=table_names.decode(\"utf-8\") \n",
    "tables = table_names.split('\\n')[:-1]\n",
    "\n",
    "\n",
    "\n",
    "for table in tables:\n",
    "    if table != '':\n",
    "        filename = table.replace(' ','_') + '.csv'\n",
    "        \n",
    "        print('Exporting ' + table)\n",
    "        with open(filename, 'wb') as f:\n",
    "            subprocess.check_call(['mdb-export', DATABASE, table], stdout=f)\n",
    "        df_new = pd.read_csv(filename)\n",
    "        # saving xlsx file\n",
    "        to_xls = pd.ExcelWriter(table+'.xlsx')\n",
    "        df_new.to_excel(to_xls, index = False)\n",
    "\n",
    "        to_xls.save()\n",
    "        \n",
    "        \n",
    "        \n",
    "            \n"
   ]
  },
  {
   "cell_type": "code",
   "execution_count": null,
   "id": "focal-giving",
   "metadata": {},
   "outputs": [],
   "source": []
  }
 ],
 "metadata": {
  "kernelspec": {
   "display_name": "Python 3",
   "language": "python",
   "name": "python3"
  },
  "language_info": {
   "codemirror_mode": {
    "name": "ipython",
    "version": 3
   },
   "file_extension": ".py",
   "mimetype": "text/x-python",
   "name": "python",
   "nbconvert_exporter": "python",
   "pygments_lexer": "ipython3",
   "version": "3.7.10"
  }
 },
 "nbformat": 4,
 "nbformat_minor": 5
}
